{
 "cells": [
  {
   "cell_type": "code",
   "execution_count": 1,
   "metadata": {},
   "outputs": [],
   "source": [
    "#Dynamic programming for calculating edit distance(minimum number of substitutions, deletions and insersions to turn string 'x' into string 'y')\n",
    "#Solve approximate matching problem #Is used in global and local alignment problems\n",
    "\n",
    "#Edit distance <= hamming Distance\n",
    "#lower bound of editDistance #editDistance(X,Y) >= X-Y\n",
    "#if alfpha 'a' and beta 'b' represent the prefixes of the two strings A and B, respectively.\n",
    "#and 'x' and 'y' are the bases following immediately after each of the prefixes. x and y could be 'A, T, G or C'\n",
    "\n",
    "#Forumula for calculating edit distance between two prefixes of the two strings:\n",
    "#edist(ax,bA) = min{(edist(a,b)+ delta(x,y)), (edist(ax,b)+ 1), (edist(a,by)+ 1)}\n",
    "#The edit distance between two strings would be the minimum of three terms-\n",
    "# 1) edist(a,b)+1 : the edit distance required to turn the alpha into beta and one more substitution to turn C into A\n",
    "# 2) edist(ax,b)+1: the edit distance required to turn the alpha and x into beta and adding y\n",
    "# 3) edist(a,by)+1: the edit distance required to turn the beta and y into alpha and adding x\n",
    "#delta(x,y) = 0 if x = y, or 1 otherwise. Sometimes the x and y could match in that case you don't need substitution so no need to add 1.\n",
    "\n",
    "\n",
    "#Recursive function\n",
    "n=0\n",
    "def edDistRecursive(a, b):\n",
    "    global n\n",
    "    if len(a) == 0:\n",
    "        return len(b)\n",
    "    if len(b) == 0:\n",
    "        return len(a)\n",
    "    if a == 'Shake' and b == 'shake':\n",
    "        n += 1\n",
    "    delt = 1 if a[-1] != b[-1] else 0\n",
    "    return min(edDistRecursive(a[:-1], b[:-1]) + delt, #distDiagonal\n",
    "               edDistRecursive(a, b[:-1]) + 1, #distHorizontal\n",
    "               edDistRecursive(a[:-1], b) + 1) #disVertical\n",
    "\n",
    "#The above function is very slow. \n",
    "#The function is quite redundant. The same characters are processed thousands of times so is quite wasteful.\n"
   ]
  },
  {
   "cell_type": "code",
   "execution_count": 2,
   "metadata": {},
   "outputs": [],
   "source": [
    "#Instead we could make a matrix of strings, X and Y. The columns will be the characters in string Y and rows will have characters of string x.\n",
    "#The elements in the matrix will be filled with the corresponding edit distance between the substrings. \n",
    "#The matrix will inculde the empty strings as well.\n",
    "#This avoids redundancy as each edit distance between two substrings/prifix will be processed and stored only once unlike the above recursive function.\n",
    "\n",
    "#Dynamic programming\n",
    "def editDistance(x, y):\n",
    "    D = []\n",
    "    #initializes a 2D array D and sets it up as a grid of zeros with dimensions (x+1) x (y+1),\n",
    "    # where x and y are the lengths of two strings\n",
    "    for i in range(len(x) + 1):\n",
    "        D.append([0]* (len(y)+1)) #first makes a list of dimension y+1 with all elements zero\n",
    "        # #and appends them to list D #This generates all the columns in a specific ith row\n",
    "    for i in range(len(x) + 1): #initializing first row and first column.\n",
    "        # Any prefix of length x and an empty string will have edit distance of value x\n",
    "        D[i][0] = i\n",
    "    for i in range(len(y) + 1):\n",
    "        D[0][i] = i\n",
    "        #Following is a generated matrix between two strings in addition to the empty string(e)\n",
    "        #matrix(x,y): e A T T G\n",
    "        #           e 0 1 2 3 4 ...\n",
    "        #           A 1 0 0 0 0 ...\n",
    "        #           G 2 0 0 0 0 ...\n",
    "        #           G 3 0 0 0 0 ...\n",
    "    #Now lets fill in the rest of the matrix going row by row and filling columns with values\n",
    "    for i in range(1, len(x) + 1):\n",
    "        for j in range(1, len(y)+1):\n",
    "            distHor = D[i][j-1] + 1\n",
    "            distVer = D[i-j] [j] + 1\n",
    "            if x[i-1] == y[j-1]:\n",
    "                distDiag = D[i-j] [j-1]\n",
    "            else:\n",
    "                distDiag = D[i - j][j - 1] + 1\n",
    "            D[i][j] = min(distHor, distVer, distDiag)\n",
    "    return D[-1][-1] #This will return the very bottom right value of the array corresponding to the final edit distance between two complete strings\n",
    "\n"
   ]
  },
  {
   "cell_type": "code",
   "execution_count": 7,
   "metadata": {},
   "outputs": [
    {
     "name": "stdout",
     "output_type": "stream",
     "text": [
      "2\n",
      "CPU times: user 307 µs, sys: 0 ns, total: 307 µs\n",
      "Wall time: 262 µs\n"
     ]
    }
   ],
   "source": [
    "%%time\n",
    "x = 'shake spea'\n",
    "y = 'Shakespear'\n",
    "print(editDistance(x,y))"
   ]
  },
  {
   "cell_type": "code",
   "execution_count": 8,
   "metadata": {
    "scrolled": true
   },
   "outputs": [
    {
     "name": "stdout",
     "output_type": "stream",
     "text": [
      "3\n",
      "CPU times: user 6.19 s, sys: 4.11 ms, total: 6.19 s\n",
      "Wall time: 12.3 s\n"
     ]
    }
   ],
   "source": [
    "%%time\n",
    "a = 'shake spea'\n",
    "b = 'Shakespear'\n",
    "print(edDistRecursive(a,b))"
   ]
  },
  {
   "cell_type": "code",
   "execution_count": null,
   "metadata": {},
   "outputs": [],
   "source": []
  }
 ],
 "metadata": {
  "kernelspec": {
   "display_name": "Python 3",
   "language": "python",
   "name": "python3"
  },
  "language_info": {
   "codemirror_mode": {
    "name": "ipython",
    "version": 3
   },
   "file_extension": ".py",
   "mimetype": "text/x-python",
   "name": "python",
   "nbconvert_exporter": "python",
   "pygments_lexer": "ipython3",
   "version": "3.7.6"
  }
 },
 "nbformat": 4,
 "nbformat_minor": 4
}
