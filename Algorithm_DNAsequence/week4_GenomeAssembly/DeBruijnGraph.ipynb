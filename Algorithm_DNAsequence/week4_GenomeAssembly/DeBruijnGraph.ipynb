{
 "cells": [
  {
   "cell_type": "code",
   "execution_count": 2,
   "metadata": {},
   "outputs": [],
   "source": [
    "#Look at each k-mer in the string, create two k-1mer,\n", 
    "#create an edge for thoes two k-1mer and create a node if it does not exist\n",
    "def de_bruijn_ize(st, k):\n",
    "    edges = []\n",
    "    node = set()\n",
    "    for i in range(len(st) - k + 1):\n",
    "        edges.append((st[i:i+k-1], st[i+1:i+k]))\n",
    "        node.add(st[i:i+k-1])\n",
    "        node.add(st[i+1:i+k])\n",
    "    return node, edges\n"
   ]
  },
  {
   "cell_type": "code",
   "execution_count": 9,
   "metadata": {},
   "outputs": [
    {
     "name": "stdout",
     "output_type": "stream",
     "text": [
      "{'GT', 'CG', 'TC', 'GC', 'AC'}\n",
      "[('AC', 'CG'), ('CG', 'GC'), ('GC', 'CG'), ('CG', 'GT'), ('GT', 'TC'), ('TC', 'CG')]\n"
     ]
    }
   ],
   "source": [
    "nodes, edges = de_bruijn_ize('ACGCGTCG', 3)\n",
    "print(nodes)\n",
    "print(edges)"
   ]
  },
  {
   "cell_type": "code",
   "execution_count": 5,
   "metadata": {},
   "outputs": [],
   "source": [
    "#visualize the eulerian walk\n",
    "def visualize_de_bruijn(st, k):\n",
    "    #visualize a directed multigraph using graphviz\n",
    "    nodes, edges = de_bruijn_ize(st, k)\n",
    "    dot_str = 'digraph \"DeBruijn graph\" {\\n'\n",
    "    for node in nodes:\n",
    "        dot_str += '  %s [label=\"%s\"] ;\\n' % (node, node)\n",
    "    for src, dst in edges:\n",
    "        dot_str += '  %s -> %s  ;\\n' % (src, dst)\n",
    "    return dot_str + '}\\n'\n"
   ]
  },
  {
   "cell_type": "code",
   "execution_count": 6,
   "metadata": {},
   "outputs": [
    {
     "name": "stdout",
     "output_type": "stream",
     "text": [
      "The gvmagic extension is already loaded. To reload it, use:\n",
      "  %reload_ext gvmagic\n"
     ]
    },
    {
     "data": {
      "image/svg+xml": [
       "<svg height=\"332pt\" viewBox=\"0.00 0.00 134.00 332.00\" width=\"134pt\" xmlns=\"http://www.w3.org/2000/svg\" xmlns:xlink=\"http://www.w3.org/1999/xlink\">\n",
       "<g class=\"graph\" id=\"graph0\" transform=\"scale(1 1) rotate(0) translate(4 328)\">\n",
       "<title>DeBruijn graph</title>\n",
       "<polygon fill=\"#ffffff\" points=\"-4,4 -4,-328 130,-328 130,4 -4,4\" stroke=\"transparent\"/>\n",
       "<!-- GT -->\n",
       "<g class=\"node\" id=\"node1\">\n",
       "<title>GT</title>\n",
       "<ellipse cx=\"27\" cy=\"-162\" fill=\"none\" rx=\"27\" ry=\"18\" stroke=\"#000000\"/>\n",
       "<text fill=\"#000000\" font-family=\"Times,serif\" font-size=\"14.00\" text-anchor=\"middle\" x=\"27\" y=\"-158.3\">GT</text>\n",
       "</g>\n",
       "<!-- TC -->\n",
       "<g class=\"node\" id=\"node4\">\n",
       "<title>TC</title>\n",
       "<ellipse cx=\"27\" cy=\"-90\" fill=\"none\" rx=\"27\" ry=\"18\" stroke=\"#000000\"/>\n",
       "<text fill=\"#000000\" font-family=\"Times,serif\" font-size=\"14.00\" text-anchor=\"middle\" x=\"27\" y=\"-86.3\">TC</text>\n",
       "</g>\n",
       "<!-- GT&#45;&gt;TC -->\n",
       "<g class=\"edge\" id=\"edge5\">\n",
       "<title>GT-&gt;TC</title>\n",
       "<path d=\"M27,-143.8314C27,-136.131 27,-126.9743 27,-118.4166\" fill=\"none\" stroke=\"#000000\"/>\n",
       "<polygon fill=\"#000000\" points=\"30.5001,-118.4132 27,-108.4133 23.5001,-118.4133 30.5001,-118.4132\" stroke=\"#000000\"/>\n",
       "</g>\n",
       "<!-- CG -->\n",
       "<g class=\"node\" id=\"node2\">\n",
       "<title>CG</title>\n",
       "<ellipse cx=\"99\" cy=\"-234\" fill=\"none\" rx=\"27\" ry=\"18\" stroke=\"#000000\"/>\n",
       "<text fill=\"#000000\" font-family=\"Times,serif\" font-size=\"14.00\" text-anchor=\"middle\" x=\"99\" y=\"-230.3\">CG</text>\n",
       "</g>\n",
       "<!-- CG&#45;&gt;GT -->\n",
       "<g class=\"edge\" id=\"edge4\">\n",
       "<title>CG-&gt;GT</title>\n",
       "<path d=\"M83.7307,-218.7307C73.803,-208.803 60.6847,-195.6847 49.5637,-184.5637\" fill=\"none\" stroke=\"#000000\"/>\n",
       "<polygon fill=\"#000000\" points=\"51.7933,-181.8436 42.2473,-177.2473 46.8436,-186.7933 51.7933,-181.8436\" stroke=\"#000000\"/>\n",
       "</g>\n",
       "<!-- GC -->\n",
       "<g class=\"node\" id=\"node5\">\n",
       "<title>GC</title>\n",
       "<ellipse cx=\"99\" cy=\"-162\" fill=\"none\" rx=\"27\" ry=\"18\" stroke=\"#000000\"/>\n",
       "<text fill=\"#000000\" font-family=\"Times,serif\" font-size=\"14.00\" text-anchor=\"middle\" x=\"99\" y=\"-158.3\">GC</text>\n",
       "</g>\n",
       "<!-- CG&#45;&gt;GC -->\n",
       "<g class=\"edge\" id=\"edge2\">\n",
       "<title>CG-&gt;GC</title>\n",
       "<path d=\"M93.0843,-216.2022C92.2798,-208.1807 92.0571,-198.5231 92.4162,-189.5957\" fill=\"none\" stroke=\"#000000\"/>\n",
       "<polygon fill=\"#000000\" points=\"95.9097,-189.8099 93.105,-179.593 88.9262,-189.3289 95.9097,-189.8099\" stroke=\"#000000\"/>\n",
       "</g>\n",
       "<!-- CC -->\n",
       "<g class=\"node\" id=\"node3\">\n",
       "<title>CC</title>\n",
       "<ellipse cx=\"27\" cy=\"-18\" fill=\"none\" rx=\"27\" ry=\"18\" stroke=\"#000000\"/>\n",
       "<text fill=\"#000000\" font-family=\"Times,serif\" font-size=\"14.00\" text-anchor=\"middle\" x=\"27\" y=\"-14.3\">CC</text>\n",
       "</g>\n",
       "<!-- TC&#45;&gt;CC -->\n",
       "<g class=\"edge\" id=\"edge6\">\n",
       "<title>TC-&gt;CC</title>\n",
       "<path d=\"M27,-71.8314C27,-64.131 27,-54.9743 27,-46.4166\" fill=\"none\" stroke=\"#000000\"/>\n",
       "<polygon fill=\"#000000\" points=\"30.5001,-46.4132 27,-36.4133 23.5001,-46.4133 30.5001,-46.4132\" stroke=\"#000000\"/>\n",
       "</g>\n",
       "<!-- GC&#45;&gt;CG -->\n",
       "<g class=\"edge\" id=\"edge3\">\n",
       "<title>GC-&gt;CG</title>\n",
       "<path d=\"M104.895,-179.593C105.7094,-187.5865 105.942,-197.2363 105.5928,-206.1759\" fill=\"none\" stroke=\"#000000\"/>\n",
       "<polygon fill=\"#000000\" points=\"102.0976,-205.9891 104.9157,-216.2022 109.0817,-206.4608 102.0976,-205.9891\" stroke=\"#000000\"/>\n",
       "</g>\n",
       "<!-- AC -->\n",
       "<g class=\"node\" id=\"node6\">\n",
       "<title>AC</title>\n",
       "<ellipse cx=\"99\" cy=\"-306\" fill=\"none\" rx=\"27\" ry=\"18\" stroke=\"#000000\"/>\n",
       "<text fill=\"#000000\" font-family=\"Times,serif\" font-size=\"14.00\" text-anchor=\"middle\" x=\"99\" y=\"-302.3\">AC</text>\n",
       "</g>\n",
       "<!-- AC&#45;&gt;CG -->\n",
       "<g class=\"edge\" id=\"edge1\">\n",
       "<title>AC-&gt;CG</title>\n",
       "<path d=\"M99,-287.8314C99,-280.131 99,-270.9743 99,-262.4166\" fill=\"none\" stroke=\"#000000\"/>\n",
       "<polygon fill=\"#000000\" points=\"102.5001,-262.4132 99,-252.4133 95.5001,-262.4133 102.5001,-262.4132\" stroke=\"#000000\"/>\n",
       "</g>\n",
       "</g>\n",
       "</svg>"
      ],
      "text/plain": [
       "<IPython.core.display.SVG object>"
      ]
     },
     "metadata": {},
     "output_type": "display_data"
    }
   ],
   "source": [
    "%load_ext gvmagic\n",
    "%dotstr visualize_de_bruijn('ACGCGTCC', 3)"
   ]
  },
  {
   "cell_type": "code",
   "execution_count": null,
   "metadata": {},
   "outputs": [],
   "source": []
  }
 ],
 "metadata": {
  "kernelspec": {
   "display_name": "Python 3",
   "language": "python",
   "name": "python3"
  },
  "language_info": {
   "codemirror_mode": {
    "name": "ipython",
    "version": 3
   },
   "file_extension": ".py",
   "mimetype": "text/x-python",
   "name": "python",
   "nbconvert_exporter": "python",
   "pygments_lexer": "ipython3",
   "version": "3.7.6"
  }
 },
 "nbformat": 4,
 "nbformat_minor": 4
}
